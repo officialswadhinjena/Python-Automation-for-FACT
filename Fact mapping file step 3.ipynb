{
 "cells": [
  {
   "cell_type": "code",
   "execution_count": 2,
   "id": "36932442",
   "metadata": {},
   "outputs": [
    {
     "name": "stdout",
     "output_type": "stream",
     "text": [
      "Process completed. The output file has been saved to C:\\Users\\jesw2001\\Desktop\\Fact Mapping\\HHT\\HHT_ExtraFact_MappingFile.xlsx.\n"
     ]
    }
   ],
   "source": [
    "import pandas as pd\n",
    "import os\n",
    "\n",
    "# Load the first and second Excel files with corrected file paths\n",
    "file1 = r\"C:\\Users\\jesw2001\\Desktop\\Fact Mapping\\HHT\\K-C GTC NISP Household Towels Facts.xlsx\"\n",
    "file2 = r\"C:\\Users\\jesw2001\\Desktop\\Fact Mapping\\HHT\\HHT_NISP_Setup.xlsx\"\n",
    "\n",
    "# Load the sheets into DataFrames\n",
    "df1 = pd.read_excel(file1, sheet_name='Country Fact Mapping')\n",
    "df2 = pd.read_excel(file2)\n",
    "\n",
    "# Define the key columns to match\n",
    "key_columns_df1 = ['Country', 'Output Tag', 'FCT_DSC_SHORT', 'FCT_DSC_LONG', 'Local Tag', 'Scaling']\n",
    "key_columns_df2 = ['Country', 'Monocube Tag', 'Monocube Short Desc', 'Monocube Long Desc', 'Input Tag', 'Scaling Factor']\n",
    "\n",
    "# Rename columns in df2 to match the columns in df1\n",
    "df2_renamed = df2.rename(columns={\n",
    "    'Country': 'Country',\n",
    "    'Monocube Tag': 'Output Tag',\n",
    "    'Monocube Short Desc': 'FCT_DSC_SHORT',\n",
    "    'Monocube Long Desc': 'FCT_DSC_LONG',\n",
    "    'Input Tag': 'Local Tag',\n",
    "    'Scaling Factor': 'Scaling'\n",
    "})\n",
    "\n",
    "# Find rows in df1 that do not have a matching row in df2\n",
    "unmatched_rows = df1.merge(df2_renamed[key_columns_df1], on=key_columns_df1, how='left', indicator=True)\n",
    "unmatched_rows = unmatched_rows[unmatched_rows['_merge'] == 'left_only']\n",
    "unmatched_rows = unmatched_rows.drop(columns=['_merge'])\n",
    "\n",
    "# Define the output path where you want to save the file\n",
    "output_path = r\"C:\\Users\\jesw2001\\Desktop\\Fact Mapping\\HHT\\HHT_ExtraFact_MappingFile.xlsx\"\n",
    "# Save the unmatched rows to the specified output path\n",
    "unmatched_rows.to_excel(output_path, index=False)\n",
    "\n",
    "print(f\"Process completed. The output file has been saved to {output_path}.\")\n",
    "\n"
   ]
  }
 ],
 "metadata": {
  "kernelspec": {
   "display_name": "Python 3 (ipykernel)",
   "language": "python",
   "name": "python3"
  },
  "language_info": {
   "codemirror_mode": {
    "name": "ipython",
    "version": 3
   },
   "file_extension": ".py",
   "mimetype": "text/x-python",
   "name": "python",
   "nbconvert_exporter": "python",
   "pygments_lexer": "ipython3",
   "version": "3.10.9"
  }
 },
 "nbformat": 4,
 "nbformat_minor": 5
}
