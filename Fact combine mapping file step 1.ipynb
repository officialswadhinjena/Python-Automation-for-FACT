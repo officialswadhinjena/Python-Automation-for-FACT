{
 "cells": [
  {
   "cell_type": "code",
   "execution_count": 1,
   "id": "c5e599b5",
   "metadata": {},
   "outputs": [
    {
     "name": "stdout",
     "output_type": "stream",
     "text": [
      "Enter the path of the directory containing the Excel files: C:\\Users\\jesw2001\\Desktop\\Fact Mapping\\HHT\\HHT Setup\n",
      "Enter the full path for the output Excel file (e.g., C:\\path\\to\\output.xlsx): C:\\Users\\jesw2001\\Desktop\\Fact Mapping\\HHT\\code1.xlsx\n",
      "Combined file saved as C:\\Users\\jesw2001\\Desktop\\Fact Mapping\\HHT\\code1.xlsx\n"
     ]
    }
   ],
   "source": [
    "import pandas as pd\n",
    "import os\n",
    "\n",
    "def process_excel(input_file):\n",
    "    # Load the Excel file\n",
    "    df = pd.read_excel(input_file, header=None)\n",
    "\n",
    "    # Check if the DataFrame has at least two rows\n",
    "    if len(df) < 2:\n",
    "        print(f\"The file {input_file} does not have enough rows.\")\n",
    "        return None\n",
    "\n",
    "    # Get the value in cell A1\n",
    "    value_a1 = df.iloc[0, 0]\n",
    "\n",
    "    # Fill column A with the value from A1 where there are values in other columns\n",
    "    df.iloc[:, 0] = df.apply(lambda row: value_a1 if row.notna().any() else row[0], axis=1)\n",
    "\n",
    "    # Set row 2 as the header\n",
    "    df.columns = df.iloc[1]\n",
    "    df = df[2:].reset_index(drop=True)\n",
    "\n",
    "    return df\n",
    "\n",
    "def combine_excel_files(directory_path, output_file):\n",
    "    combined_df = pd.DataFrame()\n",
    "    \n",
    "    # Ensure the output file has an .xlsx extension\n",
    "    if not output_file.lower().endswith('.xlsx'):\n",
    "        output_file += '.xlsx'\n",
    "\n",
    "    # List all files in the directory\n",
    "    for filename in os.listdir(directory_path):\n",
    "        if filename.endswith('.xlsx'):\n",
    "            file_path = os.path.join(directory_path, filename)\n",
    "            df = process_excel(file_path)\n",
    "            if df is not None:\n",
    "                combined_df = pd.concat([combined_df, df], ignore_index=True)\n",
    "    \n",
    "    # Save the combined DataFrame to a new Excel file\n",
    "    combined_df.to_excel(output_file, index=False, engine='openpyxl')\n",
    "    print(f\"Combined file saved as {output_file}\")\n",
    "\n",
    "# Prompt for directory path and output file path\n",
    "directory_path = input(\"Enter the path of the directory containing the Excel files: \")\n",
    "output_file = input(\"Enter the full path for the output Excel file (e.g., C:\\\\path\\\\to\\\\output.xlsx): \")\n",
    "\n",
    "# Ensure the output file path is valid\n",
    "if os.path.isdir(output_file):\n",
    "    print(\"The provided path is a directory, not a file. Please provide a file path.\")\n",
    "else:\n",
    "    # Combine the Excel files\n",
    "    combine_excel_files(directory_path, output_file)\n"
   ]
  }
 ],
 "metadata": {
  "kernelspec": {
   "display_name": "Python 3 (ipykernel)",
   "language": "python",
   "name": "python3"
  },
  "language_info": {
   "codemirror_mode": {
    "name": "ipython",
    "version": 3
   },
   "file_extension": ".py",
   "mimetype": "text/x-python",
   "name": "python",
   "nbconvert_exporter": "python",
   "pygments_lexer": "ipython3",
   "version": "3.10.9"
  }
 },
 "nbformat": 4,
 "nbformat_minor": 5
}
