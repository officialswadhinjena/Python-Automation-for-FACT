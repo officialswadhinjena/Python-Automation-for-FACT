{
 "cells": [
  {
   "cell_type": "code",
   "execution_count": 1,
   "id": "4f124df6",
   "metadata": {},
   "outputs": [
    {
     "name": "stdout",
     "output_type": "stream",
     "text": [
      "Enter the path to the input Excel file: C:\\Users\\jesw2001\\Desktop\\Fact Mapping\\HHT\\code1.xlsx\n",
      "Enter the full path for the output Excel file (including filename and extension): C:\\Users\\jesw2001\\Desktop\\Fact Mapping\\HHT\\HHT_NISP_Setup.xlsx\n",
      "Column names in the DataFrame: ['Monocube Name:KCHHT_GTC_AE_CIP_MO', 'Monocube Tag', 'Monocube Short Desc', 'Monocube Long Desc', 'Input Tag', 'Scaling Factor', 'Monocube Name:KCHHT_GTC_ES_MO', 'Monocube Name:KCHHT_GTC_IL_MO', 'Monocube Name:KCHHT_GTC_IT_MO', 'Monocube Name:KCHHT_GTC_KR_CIP_MO', 'Monocube Name:KCHHT_GTC_MX_MO', 'Monocube Name:KCHHT_GTC_MZ_MO', 'Monocube Name:KCHHT_GTC_SA_CIP_MO', 'Monocube Name:KCHHT_GTC_TH_CIP_MO', 'Monocube Name:KCHHT_GTC_TZ_CIP_MO', 'Monocube Name:KCHHT_GTC_US_CIP_MO']\n",
      "Processed file saved as: C:\\Users\\jesw2001\\Desktop\\Fact Mapping\\HHT\\HHT_NISP_Setup.xlsx\n"
     ]
    }
   ],
   "source": [
    "import os\n",
    "import pandas as pd\n",
    "\n",
    "# Prompt user for file paths\n",
    "input_file_path = input(\"Enter the path to the input Excel file: \")\n",
    "output_file_path = input(\"Enter the full path for the output Excel file (including filename and extension): \")\n",
    "\n",
    "# Check if the input file exists\n",
    "if not os.path.isfile(input_file_path):\n",
    "    print(f\"Error: The input file '{input_file_path}' does not exist.\")\n",
    "    exit()\n",
    "\n",
    "# Check if the output directory exists\n",
    "output_directory = os.path.dirname(output_file_path)\n",
    "if not os.path.isdir(output_directory) and output_directory:\n",
    "    print(f\"Error: The directory '{output_directory}' does not exist.\")\n",
    "    exit()\n",
    "\n",
    "# Check if the output path is a valid file path\n",
    "if os.path.isfile(output_file_path):\n",
    "    print(f\"Error: The path '{output_file_path}' is already a file. Please specify a new file name or location.\")\n",
    "    exit()\n",
    "\n",
    "# Load the Excel file\n",
    "df = pd.read_excel(input_file_path)\n",
    "\n",
    "# Print the column names to check\n",
    "print(\"Column names in the DataFrame:\", df.columns.tolist())\n",
    "\n",
    "# Columns after F (6th column)\n",
    "columns_after_f = df.columns[6:]\n",
    "\n",
    "# Combine values from columns after F, treating NaN as empty strings\n",
    "df['Combined'] = df[columns_after_f].fillna('').astype(str).agg(' '.join, axis=1)\n",
    "\n",
    "# Fill blank values in column A with combined values\n",
    "column_a = df.columns[0]  # Assuming column A is the first column\n",
    "df[column_a] = df[column_a].fillna(df['Combined'])\n",
    "\n",
    "# Drop the 'Combined' column used for filling\n",
    "df = df.drop(columns=['Combined'])\n",
    "\n",
    "# Drop columns after F\n",
    "df = df.iloc[:, :6]  # Keep only the first 6 columns (A to F)\n",
    "\n",
    "# Save the updated DataFrame to a new Excel file\n",
    "try:\n",
    "    df.to_excel(output_file_path, index=False, engine='openpyxl')\n",
    "    print(f\"Processed file saved as: {output_file_path}\")\n",
    "except PermissionError:\n",
    "    print(f\"Error: Permission denied when trying to save file at '{output_file_path}'.\")\n",
    "except Exception as e:\n",
    "    print(f\"Error saving file: {e}\")\n"
   ]
  }
 ],
 "metadata": {
  "kernelspec": {
   "display_name": "Python 3 (ipykernel)",
   "language": "python",
   "name": "python3"
  },
  "language_info": {
   "codemirror_mode": {
    "name": "ipython",
    "version": 3
   },
   "file_extension": ".py",
   "mimetype": "text/x-python",
   "name": "python",
   "nbconvert_exporter": "python",
   "pygments_lexer": "ipython3",
   "version": "3.10.9"
  }
 },
 "nbformat": 4,
 "nbformat_minor": 5
}
